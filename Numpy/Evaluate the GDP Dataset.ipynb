{
 "cells": [
  {
   "cell_type": "markdown",
   "metadata": {},
   "source": [
    "# Evaluate the GDP Dataset"
   ]
  },
  {
   "cell_type": "markdown",
   "metadata": {},
   "source": [
    "#### 1: View and add the dataset"
   ]
  },
  {
   "cell_type": "code",
   "execution_count": 1,
   "metadata": {},
   "outputs": [],
   "source": [
    "#Import required library\n",
    "import numpy as np"
   ]
  },
  {
   "cell_type": "code",
   "execution_count": 2,
   "metadata": {},
   "outputs": [],
   "source": [
    "#Manually add the dataset\n",
    "countries = np.array(['Algeria','Angola','Argentina','Australia','Austria','Bahamas','Bangladesh','Belarus','Belgium','Bhutan','Brazil','Bulgaria','Cambodia','Cameroon','Chile','China','Colombia','Cyprus','Denmark','El Salvador','Estonia','Ethiopia','Fiji','Finland','France','Georgia','Ghana','Grenada','Guinea','Haiti','Honduras','Hungary','India','Indonesia','Ireland','Italy','Japan','Kenya', 'South Korea','Liberia','Malaysia','Mexico', 'Morocco','Nepal','New Zealand','Norway','Pakistan', 'Peru','Qatar','Russia','Singapore','South Africa','Spain','Sweden','Switzerland','Thailand', 'United Arab Emirates','United Kingdom','United States','Uruguay','Venezuela','Vietnam','Zimbabwe'])\n",
    "gdp = np.array([2255.225482,629.9553062,11601.63022,25306.82494,27266.40335,19466.99052,588.3691778,2890.345675,24733.62696,1445.760002,4803.398244,2618.876037,590.4521124,665.7982328,7122.938458,2639.54156,3362.4656,15378.16704,30860.12808,2579.115607,6525.541272,229.6769525,2242.689259,27570.4852,23016.84778,1334.646773,402.6953275,6047.200797,394.1156638,385.5793827,1414.072488,5745.981529,837.7464011,1206.991065,27715.52837,18937.24998,39578.07441,478.2194906,16684.21278,279.2204061,5345.213415,6288.25324,1908.304416,274.8728621,14646.42094,40034.85063,672.1547506,3359.517402,36152.66676,3054.727742,33529.83052,3825.093781,15428.32098,33630.24604,39170.41371,2699.123242,21058.43643,28272.40661,37691.02733,9581.05659,5671.912202,757.4009286,347.7456605])"
   ]
  },
  {
   "cell_type": "code",
   "execution_count": 3,
   "metadata": {},
   "outputs": [
    {
     "data": {
      "text/plain": [
       "array(['Algeria', 'Angola', 'Argentina', 'Australia', 'Austria',\n",
       "       'Bahamas', 'Bangladesh', 'Belarus', 'Belgium', 'Bhutan', 'Brazil',\n",
       "       'Bulgaria', 'Cambodia', 'Cameroon', 'Chile', 'China', 'Colombia',\n",
       "       'Cyprus', 'Denmark', 'El Salvador', 'Estonia', 'Ethiopia', 'Fiji',\n",
       "       'Finland', 'France', 'Georgia', 'Ghana', 'Grenada', 'Guinea',\n",
       "       'Haiti', 'Honduras', 'Hungary', 'India', 'Indonesia', 'Ireland',\n",
       "       'Italy', 'Japan', 'Kenya', 'South Korea', 'Liberia', 'Malaysia',\n",
       "       'Mexico', 'Morocco', 'Nepal', 'New Zealand', 'Norway', 'Pakistan',\n",
       "       'Peru', 'Qatar', 'Russia', 'Singapore', 'South Africa', 'Spain',\n",
       "       'Sweden', 'Switzerland', 'Thailand', 'United Arab Emirates',\n",
       "       'United Kingdom', 'United States', 'Uruguay', 'Venezuela',\n",
       "       'Vietnam', 'Zimbabwe'], dtype='<U20')"
      ]
     },
     "execution_count": 3,
     "metadata": {},
     "output_type": "execute_result"
    }
   ],
   "source": [
    "countries"
   ]
  },
  {
   "cell_type": "code",
   "execution_count": 4,
   "metadata": {},
   "outputs": [
    {
     "data": {
      "text/plain": [
       "array([ 2255.225482 ,   629.9553062, 11601.63022  , 25306.82494  ,\n",
       "       27266.40335  , 19466.99052  ,   588.3691778,  2890.345675 ,\n",
       "       24733.62696  ,  1445.760002 ,  4803.398244 ,  2618.876037 ,\n",
       "         590.4521124,   665.7982328,  7122.938458 ,  2639.54156  ,\n",
       "        3362.4656   , 15378.16704  , 30860.12808  ,  2579.115607 ,\n",
       "        6525.541272 ,   229.6769525,  2242.689259 , 27570.4852   ,\n",
       "       23016.84778  ,  1334.646773 ,   402.6953275,  6047.200797 ,\n",
       "         394.1156638,   385.5793827,  1414.072488 ,  5745.981529 ,\n",
       "         837.7464011,  1206.991065 , 27715.52837  , 18937.24998  ,\n",
       "       39578.07441  ,   478.2194906, 16684.21278  ,   279.2204061,\n",
       "        5345.213415 ,  6288.25324  ,  1908.304416 ,   274.8728621,\n",
       "       14646.42094  , 40034.85063  ,   672.1547506,  3359.517402 ,\n",
       "       36152.66676  ,  3054.727742 , 33529.83052  ,  3825.093781 ,\n",
       "       15428.32098  , 33630.24604  , 39170.41371  ,  2699.123242 ,\n",
       "       21058.43643  , 28272.40661  , 37691.02733  ,  9581.05659  ,\n",
       "        5671.912202 ,   757.4009286,   347.7456605])"
      ]
     },
     "execution_count": 4,
     "metadata": {},
     "output_type": "execute_result"
    }
   ],
   "source": [
    "gdp"
   ]
  },
  {
   "cell_type": "markdown",
   "metadata": {
    "collapsed": true
   },
   "source": [
    "#### 2: Find and print the name of the country with the highest GDP"
   ]
  },
  {
   "cell_type": "code",
   "execution_count": 5,
   "metadata": {},
   "outputs": [],
   "source": [
    "#Use the argmax() method to find the highest GDP\n",
    "max_gdp = gdp.argmax()"
   ]
  },
  {
   "cell_type": "code",
   "execution_count": 6,
   "metadata": {},
   "outputs": [
    {
     "data": {
      "text/plain": [
       "45"
      ]
     },
     "execution_count": 6,
     "metadata": {},
     "output_type": "execute_result"
    }
   ],
   "source": [
    "max_gdp"
   ]
  },
  {
   "cell_type": "code",
   "execution_count": 7,
   "metadata": {},
   "outputs": [],
   "source": [
    "max_gdp_country = countries[max_gdp]"
   ]
  },
  {
   "cell_type": "code",
   "execution_count": 8,
   "metadata": {},
   "outputs": [
    {
     "data": {
      "text/plain": [
       "'Norway'"
      ]
     },
     "execution_count": 8,
     "metadata": {},
     "output_type": "execute_result"
    }
   ],
   "source": [
    "#Print the name of the country\n",
    "max_gdp_country"
   ]
  },
  {
   "cell_type": "markdown",
   "metadata": {},
   "source": [
    "#### 3: Find and print the name of the country with the lowest GDP"
   ]
  },
  {
   "cell_type": "code",
   "execution_count": 9,
   "metadata": {},
   "outputs": [],
   "source": [
    "#Use the argmin() method to find the lowest GDP\n",
    "min_gdp = gdp.argmin()"
   ]
  },
  {
   "cell_type": "code",
   "execution_count": 10,
   "metadata": {},
   "outputs": [
    {
     "data": {
      "text/plain": [
       "21"
      ]
     },
     "execution_count": 10,
     "metadata": {},
     "output_type": "execute_result"
    }
   ],
   "source": [
    "min_gdp"
   ]
  },
  {
   "cell_type": "code",
   "execution_count": 11,
   "metadata": {},
   "outputs": [],
   "source": [
    "min_gdp_country = countries[min_gdp]"
   ]
  },
  {
   "cell_type": "code",
   "execution_count": 12,
   "metadata": {},
   "outputs": [
    {
     "data": {
      "text/plain": [
       "'Ethiopia'"
      ]
     },
     "execution_count": 12,
     "metadata": {},
     "output_type": "execute_result"
    }
   ],
   "source": [
    "#Print the name of the country\n",
    "min_gdp_country"
   ]
  },
  {
   "cell_type": "markdown",
   "metadata": {},
   "source": [
    "#### 4: Print out text ('evaluating country') and input value ('country name') iteratively"
   ]
  },
  {
   "cell_type": "code",
   "execution_count": 13,
   "metadata": {},
   "outputs": [
    {
     "name": "stdout",
     "output_type": "stream",
     "text": [
      "evaluating country Algeria\n",
      "evaluating country Angola\n",
      "evaluating country Argentina\n",
      "evaluating country Australia\n",
      "evaluating country Austria\n",
      "evaluating country Bahamas\n",
      "evaluating country Bangladesh\n",
      "evaluating country Belarus\n",
      "evaluating country Belgium\n",
      "evaluating country Bhutan\n",
      "evaluating country Brazil\n",
      "evaluating country Bulgaria\n",
      "evaluating country Cambodia\n",
      "evaluating country Cameroon\n",
      "evaluating country Chile\n",
      "evaluating country China\n",
      "evaluating country Colombia\n",
      "evaluating country Cyprus\n",
      "evaluating country Denmark\n",
      "evaluating country El Salvador\n",
      "evaluating country Estonia\n",
      "evaluating country Ethiopia\n",
      "evaluating country Fiji\n",
      "evaluating country Finland\n",
      "evaluating country France\n",
      "evaluating country Georgia\n",
      "evaluating country Ghana\n",
      "evaluating country Grenada\n",
      "evaluating country Guinea\n",
      "evaluating country Haiti\n",
      "evaluating country Honduras\n",
      "evaluating country Hungary\n",
      "evaluating country India\n",
      "evaluating country Indonesia\n",
      "evaluating country Ireland\n",
      "evaluating country Italy\n",
      "evaluating country Japan\n",
      "evaluating country Kenya\n",
      "evaluating country South Korea\n",
      "evaluating country Liberia\n",
      "evaluating country Malaysia\n",
      "evaluating country Mexico\n",
      "evaluating country Morocco\n",
      "evaluating country Nepal\n",
      "evaluating country New Zealand\n",
      "evaluating country Norway\n",
      "evaluating country Pakistan\n",
      "evaluating country Peru\n",
      "evaluating country Qatar\n",
      "evaluating country Russia\n",
      "evaluating country Singapore\n",
      "evaluating country South Africa\n",
      "evaluating country Spain\n",
      "evaluating country Sweden\n",
      "evaluating country Switzerland\n",
      "evaluating country Thailand\n",
      "evaluating country United Arab Emirates\n",
      "evaluating country United Kingdom\n",
      "evaluating country United States\n",
      "evaluating country Uruguay\n",
      "evaluating country Venezuela\n",
      "evaluating country Vietnam\n",
      "evaluating country Zimbabwe\n"
     ]
    }
   ],
   "source": [
    "#Use a for loop to print the required output\n",
    "for country in countries:\n",
    "    print('evaluating country {}'.format(country))"
   ]
  },
  {
   "cell_type": "markdown",
   "metadata": {},
   "source": [
    "#### 5: Print out the entire list of the countries with their GDPs"
   ]
  },
  {
   "cell_type": "code",
   "execution_count": 16,
   "metadata": {},
   "outputs": [
    {
     "data": {
      "text/plain": [
       "array(['Algeria', 'Angola', 'Argentina', 'Australia', 'Austria',\n",
       "       'Bahamas', 'Bangladesh', 'Belarus', 'Belgium', 'Bhutan', 'Brazil',\n",
       "       'Bulgaria', 'Cambodia', 'Cameroon', 'Chile', 'China', 'Colombia',\n",
       "       'Cyprus', 'Denmark', 'El Salvador', 'Estonia', 'Ethiopia', 'Fiji',\n",
       "       'Finland', 'France', 'Georgia', 'Ghana', 'Grenada', 'Guinea',\n",
       "       'Haiti', 'Honduras', 'Hungary', 'India', 'Indonesia', 'Ireland',\n",
       "       'Italy', 'Japan', 'Kenya', 'South Korea', 'Liberia', 'Malaysia',\n",
       "       'Mexico', 'Morocco', 'Nepal', 'New Zealand', 'Norway', 'Pakistan',\n",
       "       'Peru', 'Qatar', 'Russia', 'Singapore', 'South Africa', 'Spain',\n",
       "       'Sweden', 'Switzerland', 'Thailand', 'United Arab Emirates',\n",
       "       'United Kingdom', 'United States', 'Uruguay', 'Venezuela',\n",
       "       'Vietnam', 'Zimbabwe'], dtype='<U20')"
      ]
     },
     "execution_count": 16,
     "metadata": {},
     "output_type": "execute_result"
    }
   ],
   "source": [
    "countries"
   ]
  },
  {
   "cell_type": "code",
   "execution_count": 18,
   "metadata": {},
   "outputs": [],
   "source": [
    "gdp = np.array([2255.225482,629.9553062,11601.63022,25306.82494,27266.40335,19466.99052,588.3691778,2890.345675,24733.62696,1445.760002,4803.398244,2618.876037,590.4521124,665.7982328,7122.938458,2639.54156,3362.4656,15378.16704,30860.12808,2579.115607,6525.541272,229.6769525,2242.689259,27570.4852,23016.84778,1334.646773,402.6953275,6047.200797,394.1156638,385.5793827,1414.072488,5745.981529,837.7464011,1206.991065,27715.52837,18937.24998,39578.07441,478.2194906,16684.21278,279.2204061,5345.213415,6288.25324,1908.304416,274.8728621,14646.42094,40034.85063,672.1547506,3359.517402,36152.66676,3054.727742,33529.83052,3825.093781,15428.32098,33630.24604,39170.41371,2699.123242,21058.43643,28272.40661,37691.02733,9581.05659,5671.912202,757.4009286,347.7456605])"
   ]
  },
  {
   "cell_type": "code",
   "execution_count": 19,
   "metadata": {},
   "outputs": [
    {
     "data": {
      "text/plain": [
       "array([ 2255.225482 ,   629.9553062, 11601.63022  , 25306.82494  ,\n",
       "       27266.40335  , 19466.99052  ,   588.3691778,  2890.345675 ,\n",
       "       24733.62696  ,  1445.760002 ,  4803.398244 ,  2618.876037 ,\n",
       "         590.4521124,   665.7982328,  7122.938458 ,  2639.54156  ,\n",
       "        3362.4656   , 15378.16704  , 30860.12808  ,  2579.115607 ,\n",
       "        6525.541272 ,   229.6769525,  2242.689259 , 27570.4852   ,\n",
       "       23016.84778  ,  1334.646773 ,   402.6953275,  6047.200797 ,\n",
       "         394.1156638,   385.5793827,  1414.072488 ,  5745.981529 ,\n",
       "         837.7464011,  1206.991065 , 27715.52837  , 18937.24998  ,\n",
       "       39578.07441  ,   478.2194906, 16684.21278  ,   279.2204061,\n",
       "        5345.213415 ,  6288.25324  ,  1908.304416 ,   274.8728621,\n",
       "       14646.42094  , 40034.85063  ,   672.1547506,  3359.517402 ,\n",
       "       36152.66676  ,  3054.727742 , 33529.83052  ,  3825.093781 ,\n",
       "       15428.32098  , 33630.24604  , 39170.41371  ,  2699.123242 ,\n",
       "       21058.43643  , 28272.40661  , 37691.02733  ,  9581.05659  ,\n",
       "        5671.912202 ,   757.4009286,   347.7456605])"
      ]
     },
     "execution_count": 19,
     "metadata": {},
     "output_type": "execute_result"
    }
   ],
   "source": [
    "gdp"
   ]
  },
  {
   "cell_type": "code",
   "execution_count": 21,
   "metadata": {},
   "outputs": [
    {
     "name": "stdout",
     "output_type": "stream",
     "text": [
      "Country: Algeria , Per Capita GDP: 2255.225482\n",
      "Country: Angola , Per Capita GDP: 629.9553062\n",
      "Country: Argentina , Per Capita GDP: 11601.63022\n",
      "Country: Australia , Per Capita GDP: 25306.82494\n",
      "Country: Austria , Per Capita GDP: 27266.40335\n",
      "Country: Bahamas , Per Capita GDP: 19466.99052\n",
      "Country: Bangladesh , Per Capita GDP: 588.3691778\n",
      "Country: Belarus , Per Capita GDP: 2890.345675\n",
      "Country: Belgium , Per Capita GDP: 24733.62696\n",
      "Country: Bhutan , Per Capita GDP: 1445.760002\n",
      "Country: Brazil , Per Capita GDP: 4803.398244\n",
      "Country: Bulgaria , Per Capita GDP: 2618.876037\n",
      "Country: Cambodia , Per Capita GDP: 590.4521124\n",
      "Country: Cameroon , Per Capita GDP: 665.7982328\n",
      "Country: Chile , Per Capita GDP: 7122.938458\n",
      "Country: China , Per Capita GDP: 2639.54156\n",
      "Country: Colombia , Per Capita GDP: 3362.4656\n",
      "Country: Cyprus , Per Capita GDP: 15378.16704\n",
      "Country: Denmark , Per Capita GDP: 30860.12808\n",
      "Country: El Salvador , Per Capita GDP: 2579.115607\n",
      "Country: Estonia , Per Capita GDP: 6525.541272\n",
      "Country: Ethiopia , Per Capita GDP: 229.6769525\n",
      "Country: Fiji , Per Capita GDP: 2242.689259\n",
      "Country: Finland , Per Capita GDP: 27570.4852\n",
      "Country: France , Per Capita GDP: 23016.84778\n",
      "Country: Georgia , Per Capita GDP: 1334.646773\n",
      "Country: Ghana , Per Capita GDP: 402.6953275\n",
      "Country: Grenada , Per Capita GDP: 6047.200797\n",
      "Country: Guinea , Per Capita GDP: 394.1156638\n",
      "Country: Haiti , Per Capita GDP: 385.5793827\n",
      "Country: Honduras , Per Capita GDP: 1414.072488\n",
      "Country: Hungary , Per Capita GDP: 5745.981529\n",
      "Country: India , Per Capita GDP: 837.7464011\n",
      "Country: Indonesia , Per Capita GDP: 1206.991065\n",
      "Country: Ireland , Per Capita GDP: 27715.52837\n",
      "Country: Italy , Per Capita GDP: 18937.24998\n",
      "Country: Japan , Per Capita GDP: 39578.07441\n",
      "Country: Kenya , Per Capita GDP: 478.2194906\n",
      "Country: South Korea , Per Capita GDP: 16684.21278\n",
      "Country: Liberia , Per Capita GDP: 279.2204061\n",
      "Country: Malaysia , Per Capita GDP: 5345.213415\n",
      "Country: Mexico , Per Capita GDP: 6288.25324\n",
      "Country: Morocco , Per Capita GDP: 1908.304416\n",
      "Country: Nepal , Per Capita GDP: 274.8728621\n",
      "Country: New Zealand , Per Capita GDP: 14646.42094\n",
      "Country: Norway , Per Capita GDP: 40034.85063\n",
      "Country: Pakistan , Per Capita GDP: 672.1547506\n",
      "Country: Peru , Per Capita GDP: 3359.517402\n",
      "Country: Qatar , Per Capita GDP: 36152.66676\n",
      "Country: Russia , Per Capita GDP: 3054.727742\n",
      "Country: Singapore , Per Capita GDP: 33529.83052\n",
      "Country: South Africa , Per Capita GDP: 3825.093781\n",
      "Country: Spain , Per Capita GDP: 15428.32098\n",
      "Country: Sweden , Per Capita GDP: 33630.24604\n",
      "Country: Switzerland , Per Capita GDP: 39170.41371\n",
      "Country: Thailand , Per Capita GDP: 2699.123242\n",
      "Country: United Arab Emirates , Per Capita GDP: 21058.43643\n",
      "Country: United Kingdom , Per Capita GDP: 28272.40661\n",
      "Country: United States , Per Capita GDP: 37691.02733\n",
      "Country: Uruguay , Per Capita GDP: 9581.05659\n",
      "Country: Venezuela , Per Capita GDP: 5671.912202\n",
      "Country: Vietnam , Per Capita GDP: 757.4009286\n",
      "Country: Zimbabwe , Per Capita GDP: 347.7456605\n"
     ]
    }
   ],
   "source": [
    "#Use a for loop to print the required list\n",
    "for i in range(len(countries)):\n",
    "    country = countries[i]\n",
    "    gdp_per_capita = gdp[i]\n",
    "    print('Country: {} , Per Capita GDP: {}'.format(country,gdp_per_capita))"
   ]
  },
  {
   "cell_type": "markdown",
   "metadata": {},
   "source": [
    "#### 6: Print the following:\n",
    "1. Highest GPD value\n",
    "2. Lowest GDP value\n",
    "3. Mean GDP value\n",
    "4. Standardized GDP value\n",
    "5. Sum of all the GDPs"
   ]
  },
  {
   "cell_type": "code",
   "execution_count": 22,
   "metadata": {},
   "outputs": [
    {
     "name": "stdout",
     "output_type": "stream",
     "text": [
      "40034.85063\n"
     ]
    }
   ],
   "source": [
    "#Highest GPD value\n",
    "print(gdp.max())"
   ]
  },
  {
   "cell_type": "code",
   "execution_count": 23,
   "metadata": {},
   "outputs": [
    {
     "name": "stdout",
     "output_type": "stream",
     "text": [
      "229.6769525\n"
     ]
    }
   ],
   "source": [
    "#Lowest GPD value\n",
    "print(gdp.min())"
   ]
  },
  {
   "cell_type": "code",
   "execution_count": 24,
   "metadata": {},
   "outputs": [
    {
     "name": "stdout",
     "output_type": "stream",
     "text": [
      "11289.409271639683\n"
     ]
    }
   ],
   "source": [
    "#Mean GDP value\n",
    "print(gdp.mean())"
   ]
  },
  {
   "cell_type": "code",
   "execution_count": 25,
   "metadata": {},
   "outputs": [
    {
     "name": "stdout",
     "output_type": "stream",
     "text": [
      "12743.828910617945\n"
     ]
    }
   ],
   "source": [
    "#Standardized GDP value\n",
    "print(gdp.std())"
   ]
  },
  {
   "cell_type": "code",
   "execution_count": 26,
   "metadata": {},
   "outputs": [
    {
     "name": "stdout",
     "output_type": "stream",
     "text": [
      "711232.7841133001\n"
     ]
    }
   ],
   "source": [
    "#Sum of all the GDPs\n",
    "print(sum(gdp))"
   ]
  },
  {
   "cell_type": "code",
   "execution_count": null,
   "metadata": {},
   "outputs": [],
   "source": []
  }
 ],
 "metadata": {
  "kernelspec": {
   "display_name": "Python 3 (ipykernel)",
   "language": "python",
   "name": "python3"
  },
  "language_info": {
   "codemirror_mode": {
    "name": "ipython",
    "version": 3
   },
   "file_extension": ".py",
   "mimetype": "text/x-python",
   "name": "python",
   "nbconvert_exporter": "python",
   "pygments_lexer": "ipython3",
   "version": "3.9.7"
  }
 },
 "nbformat": 4,
 "nbformat_minor": 1
}
