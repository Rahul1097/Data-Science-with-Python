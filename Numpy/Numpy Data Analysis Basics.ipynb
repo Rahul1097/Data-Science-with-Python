{
 "cells": [
  {
   "cell_type": "markdown",
   "metadata": {},
   "source": [
    "# Numpy Data Analysis Basics"
   ]
  },
  {
   "cell_type": "code",
   "execution_count": 1,
   "metadata": {},
   "outputs": [
    {
     "name": "stdout",
     "output_type": "stream",
     "text": [
      "[1 2 3]\n"
     ]
    }
   ],
   "source": [
    "import numpy as np\n",
    "\n",
    "# Create a 1D array\n",
    "\n",
    "arr1 = np.array([1,2,3])\n",
    "\n",
    "print(arr1)"
   ]
  },
  {
   "cell_type": "code",
   "execution_count": 2,
   "metadata": {},
   "outputs": [
    {
     "name": "stdout",
     "output_type": "stream",
     "text": [
      "<class 'numpy.ndarray'>\n"
     ]
    }
   ],
   "source": [
    "# check the array\n",
    "\n",
    "print(type(arr1))"
   ]
  },
  {
   "cell_type": "code",
   "execution_count": 3,
   "metadata": {},
   "outputs": [
    {
     "name": "stdout",
     "output_type": "stream",
     "text": [
      "(3,)\n"
     ]
    }
   ],
   "source": [
    "# Check the shape of the array\n",
    "\n",
    "print(arr1.shape)"
   ]
  },
  {
   "cell_type": "code",
   "execution_count": 4,
   "metadata": {},
   "outputs": [
    {
     "data": {
      "text/plain": [
       "3"
      ]
     },
     "execution_count": 4,
     "metadata": {},
     "output_type": "execute_result"
    }
   ],
   "source": [
    "# accessing elements from the array\n",
    "\n",
    "arr1[2]"
   ]
  },
  {
   "cell_type": "code",
   "execution_count": 5,
   "metadata": {},
   "outputs": [],
   "source": [
    "# Change an element from the array\n",
    "\n",
    "arr1[2]= 5"
   ]
  },
  {
   "cell_type": "code",
   "execution_count": 6,
   "metadata": {},
   "outputs": [
    {
     "data": {
      "text/plain": [
       "array([1, 2, 5])"
      ]
     },
     "execution_count": 6,
     "metadata": {},
     "output_type": "execute_result"
    }
   ],
   "source": [
    "arr1"
   ]
  },
  {
   "cell_type": "code",
   "execution_count": 7,
   "metadata": {},
   "outputs": [
    {
     "name": "stdout",
     "output_type": "stream",
     "text": [
      "[[1 2 3]\n",
      " [4 5 6]]\n"
     ]
    }
   ],
   "source": [
    "# Create a 2D array\n",
    "\n",
    "arr2 = np.array([[1,2,3], [4,5,6]])\n",
    "print(arr2)"
   ]
  },
  {
   "cell_type": "code",
   "execution_count": 8,
   "metadata": {},
   "outputs": [
    {
     "name": "stdout",
     "output_type": "stream",
     "text": [
      "The shape is 2 rows and 3 columns: (2, 3)\n"
     ]
    }
   ],
   "source": [
    "# Check the shape of the array\n",
    "\n",
    "print(\"The shape is 2 rows and 3 columns:\", arr2.shape)"
   ]
  },
  {
   "cell_type": "code",
   "execution_count": 9,
   "metadata": {},
   "outputs": [
    {
     "data": {
      "text/plain": [
       "3"
      ]
     },
     "execution_count": 9,
     "metadata": {},
     "output_type": "execute_result"
    }
   ],
   "source": [
    "# Accessing elements from the array\n",
    "\n",
    "arr2[0][2]"
   ]
  },
  {
   "cell_type": "code",
   "execution_count": 10,
   "metadata": {},
   "outputs": [
    {
     "data": {
      "text/plain": [
       "3"
      ]
     },
     "execution_count": 10,
     "metadata": {},
     "output_type": "execute_result"
    }
   ],
   "source": [
    "arr2[0,2]"
   ]
  },
  {
   "cell_type": "code",
   "execution_count": 11,
   "metadata": {},
   "outputs": [
    {
     "data": {
      "text/plain": [
       "2"
      ]
     },
     "execution_count": 11,
     "metadata": {},
     "output_type": "execute_result"
    }
   ],
   "source": [
    "arr2[0,-2]"
   ]
  },
  {
   "cell_type": "code",
   "execution_count": 12,
   "metadata": {},
   "outputs": [
    {
     "data": {
      "text/plain": [
       "3"
      ]
     },
     "execution_count": 12,
     "metadata": {},
     "output_type": "execute_result"
    }
   ],
   "source": [
    "arr2[0,-1]"
   ]
  },
  {
   "cell_type": "code",
   "execution_count": 13,
   "metadata": {},
   "outputs": [
    {
     "data": {
      "text/plain": [
       "4"
      ]
     },
     "execution_count": 13,
     "metadata": {},
     "output_type": "execute_result"
    }
   ],
   "source": [
    "arr2[-1, 0]"
   ]
  },
  {
   "cell_type": "code",
   "execution_count": 14,
   "metadata": {},
   "outputs": [
    {
     "name": "stdout",
     "output_type": "stream",
     "text": [
      "['India' 'China' 'USA' 'Mexico']\n"
     ]
    }
   ],
   "source": [
    "# Array of type string\n",
    "\n",
    "arr3 = np.array(['India', 'China', 'USA' , 'Mexico'])\n",
    "print(arr3)"
   ]
  },
  {
   "cell_type": "code",
   "execution_count": 15,
   "metadata": {},
   "outputs": [
    {
     "data": {
      "text/plain": [
       "'China'"
      ]
     },
     "execution_count": 15,
     "metadata": {},
     "output_type": "execute_result"
    }
   ],
   "source": [
    "arr3[1]"
   ]
  },
  {
   "cell_type": "code",
   "execution_count": 16,
   "metadata": {},
   "outputs": [
    {
     "name": "stdout",
     "output_type": "stream",
     "text": [
      "[ 0  2  4  6  8 10 12 14 16 18]\n"
     ]
    }
   ],
   "source": [
    "# Array of evenly spaced values within a specified interval\n",
    "\n",
    "arr = np.arange(0, 20, 2)\n",
    "print(arr)"
   ]
  },
  {
   "cell_type": "code",
   "execution_count": 17,
   "metadata": {},
   "outputs": [
    {
     "name": "stdout",
     "output_type": "stream",
     "text": [
      "[ 0.          0.52631579  1.05263158  1.57894737  2.10526316  2.63157895\n",
      "  3.15789474  3.68421053  4.21052632  4.73684211  5.26315789  5.78947368\n",
      "  6.31578947  6.84210526  7.36842105  7.89473684  8.42105263  8.94736842\n",
      "  9.47368421 10.        ]\n"
     ]
    }
   ],
   "source": [
    "# Array of evenly spaced number in a specified interval\n",
    "\n",
    "arr = np.linspace(0, 10, 20)\n",
    "print(arr)"
   ]
  },
  {
   "cell_type": "code",
   "execution_count": 18,
   "metadata": {},
   "outputs": [
    {
     "name": "stdout",
     "output_type": "stream",
     "text": [
      "[0.76609137 0.90660162 0.4595946  0.09276739 0.43626907 0.5748815\n",
      " 0.06022887 0.08741953 0.909074   0.20805301]\n",
      "\n",
      "\n",
      "[[0.75247591 0.25365498 0.12523213 0.08417047]\n",
      " [0.42934556 0.10407552 0.68913867 0.93354129]\n",
      " [0.6176221  0.58276089 0.87532998 0.00866804]]\n"
     ]
    }
   ],
   "source": [
    "# Array of random values between 0 and 1 in a given shape\n",
    "\n",
    "arr = np.random.rand(10)\n",
    "print(arr)\n",
    "print('\\n')\n",
    "arr = np.random.rand(3,4)\n",
    "print(arr)"
   ]
  },
  {
   "cell_type": "code",
   "execution_count": 19,
   "metadata": {},
   "outputs": [
    {
     "name": "stdout",
     "output_type": "stream",
     "text": [
      "[0. 0. 0. 0. 0. 0. 0. 0. 0. 0.]\n",
      "\n",
      "\n",
      "[[0. 0. 0.]\n",
      " [0. 0. 0.]]\n"
     ]
    }
   ],
   "source": [
    "# Array of zeros\n",
    "\n",
    "print(np.zeros(10))\n",
    "print('\\n')\n",
    "print(np.zeros((2,3)))"
   ]
  },
  {
   "cell_type": "code",
   "execution_count": 20,
   "metadata": {},
   "outputs": [
    {
     "name": "stdout",
     "output_type": "stream",
     "text": [
      "[[1. 1. 1. 1.]\n",
      " [1. 1. 1. 1.]\n",
      " [1. 1. 1. 1.]]\n"
     ]
    }
   ],
   "source": [
    "print(np.ones((3,4)))"
   ]
  },
  {
   "cell_type": "code",
   "execution_count": 21,
   "metadata": {},
   "outputs": [
    {
     "name": "stdout",
     "output_type": "stream",
     "text": [
      "[[10 10 10 10 10 10]\n",
      " [10 10 10 10 10 10]\n",
      " [10 10 10 10 10 10]\n",
      " [10 10 10 10 10 10]]\n"
     ]
    }
   ],
   "source": [
    "# Array of constant values in a given shape\n",
    "\n",
    "print(np.full((4,6),10))"
   ]
  },
  {
   "cell_type": "code",
   "execution_count": 22,
   "metadata": {},
   "outputs": [
    {
     "name": "stdout",
     "output_type": "stream",
     "text": [
      "[0 0 0 1 1 1 2 2 2]\n"
     ]
    }
   ],
   "source": [
    "# Create an array by repetition\n",
    "# epeat each element of an array by a specified number of times\n",
    "\n",
    "arr = [0, 1, 2]\n",
    "print(np.repeat(arr, 3)) "
   ]
  },
  {
   "cell_type": "code",
   "execution_count": 23,
   "metadata": {},
   "outputs": [
    {
     "name": "stdout",
     "output_type": "stream",
     "text": [
      "[0 1 2 0 1 2 0 1 2]\n"
     ]
    }
   ],
   "source": [
    "# Repeat an array by a specified number of times\n",
    "\n",
    "arr = [0, 1, 2]\n",
    "print(np.tile(arr, 3))"
   ]
  },
  {
   "cell_type": "code",
   "execution_count": 24,
   "metadata": {},
   "outputs": [
    {
     "name": "stdout",
     "output_type": "stream",
     "text": [
      "[[1. 0. 0.]\n",
      " [0. 1. 0.]\n",
      " [0. 0. 1.]]\n"
     ]
    }
   ],
   "source": [
    "# Create an idenity matrix\n",
    "\n",
    "identity_matrix = np.eye(3)\n",
    "print(identity_matrix)"
   ]
  },
  {
   "cell_type": "code",
   "execution_count": 25,
   "metadata": {},
   "outputs": [
    {
     "name": "stdout",
     "output_type": "stream",
     "text": [
      "[[1. 0. 0.]\n",
      " [0. 1. 0.]\n",
      " [0. 0. 1.]]\n"
     ]
    }
   ],
   "source": [
    "identity_matrix = np.identity(3)\n",
    "print(identity_matrix)"
   ]
  },
  {
   "cell_type": "code",
   "execution_count": 26,
   "metadata": {},
   "outputs": [
    {
     "name": "stdout",
     "output_type": "stream",
     "text": [
      "[[1 0 0 0 0]\n",
      " [0 2 0 0 0]\n",
      " [0 0 3 0 0]\n",
      " [0 0 0 4 0]\n",
      " [0 0 0 0 5]]\n"
     ]
    }
   ],
   "source": [
    "# Create a matrix with a specified diagonal array\n",
    "\n",
    "arr = np.diag([1,2,3,4,5])\n",
    "print(arr)"
   ]
  },
  {
   "cell_type": "code",
   "execution_count": 27,
   "metadata": {},
   "outputs": [
    {
     "name": "stdout",
     "output_type": "stream",
     "text": [
      "[[0.49594371 0.21768502 0.69476238 0.00741987 0.44744084]\n",
      " [0.69712512 0.84548515 0.14865689 0.41753281 0.3233278 ]\n",
      " [0.69160897 0.89807677 0.25541268 0.61187713 0.73491297]\n",
      " [0.5319836  0.3767479  0.91006091 0.99483816 0.7919427 ]\n",
      " [0.39689397 0.46351014 0.79795882 0.53139965 0.33023608]]\n"
     ]
    }
   ],
   "source": [
    "arr = np.random.rand(5,5)\n",
    "print(arr)"
   ]
  },
  {
   "cell_type": "code",
   "execution_count": 28,
   "metadata": {},
   "outputs": [
    {
     "name": "stdout",
     "output_type": "stream",
     "text": [
      "[0.49594371 0.84548515 0.25541268 0.99483816 0.33023608]\n"
     ]
    }
   ],
   "source": [
    "# Extract the diagonal elements in the array\n",
    "print(np.diag(arr))"
   ]
  },
  {
   "cell_type": "code",
   "execution_count": 29,
   "metadata": {},
   "outputs": [
    {
     "name": "stdout",
     "output_type": "stream",
     "text": [
      "5\n"
     ]
    }
   ],
   "source": [
    "# Display the length of the array\n",
    "print(len(arr))"
   ]
  },
  {
   "cell_type": "code",
   "execution_count": 30,
   "metadata": {},
   "outputs": [
    {
     "name": "stdout",
     "output_type": "stream",
     "text": [
      "2\n"
     ]
    }
   ],
   "source": [
    "# Display the dimension of the array\n",
    "print(arr.ndim)"
   ]
  },
  {
   "cell_type": "code",
   "execution_count": 31,
   "metadata": {},
   "outputs": [
    {
     "name": "stdout",
     "output_type": "stream",
     "text": [
      "25\n"
     ]
    }
   ],
   "source": [
    "# Display the size of the elements\n",
    "print(arr.size)"
   ]
  },
  {
   "cell_type": "code",
   "execution_count": 32,
   "metadata": {},
   "outputs": [
    {
     "name": "stdout",
     "output_type": "stream",
     "text": [
      "[  3   6   1 -10]\n"
     ]
    }
   ],
   "source": [
    "# print 4 random integers\n",
    "\n",
    "print(np.random.randint(-10, 10, 4))"
   ]
  },
  {
   "cell_type": "code",
   "execution_count": 33,
   "metadata": {},
   "outputs": [
    {
     "name": "stdout",
     "output_type": "stream",
     "text": [
      "[[10.49594371 10.21768502 10.69476238 10.00741987 10.44744084]\n",
      " [10.69712512 10.84548515 10.14865689 10.41753281 10.3233278 ]\n",
      " [10.69160897 10.89807677 10.25541268 10.61187713 10.73491297]\n",
      " [10.5319836  10.3767479  10.91006091 10.99483816 10.7919427 ]\n",
      " [10.39689397 10.46351014 10.79795882 10.53139965 10.33023608]]\n",
      "\n",
      "\n",
      "[[-9.50405629 -9.78231498 -9.30523762 -9.99258013 -9.55255916]\n",
      " [-9.30287488 -9.15451485 -9.85134311 -9.58246719 -9.6766722 ]\n",
      " [-9.30839103 -9.10192323 -9.74458732 -9.38812287 -9.26508703]\n",
      " [-9.4680164  -9.6232521  -9.08993909 -9.00516184 -9.2080573 ]\n",
      " [-9.60310603 -9.53648986 -9.20204118 -9.46860035 -9.66976392]]\n",
      "\n",
      "\n",
      "[[4.95943714 2.17685022 6.94762379 0.07419865 4.47440841]\n",
      " [6.97125122 8.45485148 1.48656888 4.17532815 3.23327798]\n",
      " [6.91608966 8.98076765 2.55412676 6.11877127 7.34912965]\n",
      " [5.31983604 3.76747899 9.10060913 9.94838164 7.91942699]\n",
      " [3.96893973 4.63510142 7.97958816 5.31399647 3.30236085]]\n",
      "\n",
      "\n",
      "[[0.04959437 0.0217685  0.06947624 0.00074199 0.04474408]\n",
      " [0.06971251 0.08454851 0.01486569 0.04175328 0.03233278]\n",
      " [0.0691609  0.08980768 0.02554127 0.06118771 0.0734913 ]\n",
      " [0.05319836 0.03767479 0.09100609 0.09948382 0.07919427]\n",
      " [0.0396894  0.04635101 0.07979588 0.05313996 0.03302361]]\n"
     ]
    }
   ],
   "source": [
    "# Mathematical operations\n",
    "\n",
    "print(arr + 10)\n",
    "print('\\n')\n",
    "print(arr - 10)\n",
    "print('\\n')\n",
    "print(arr * 10)\n",
    "print('\\n')\n",
    "print(arr / 10)"
   ]
  },
  {
   "cell_type": "code",
   "execution_count": 34,
   "metadata": {},
   "outputs": [
    {
     "name": "stdout",
     "output_type": "stream",
     "text": [
      "[[1.64204713 1.24319543 2.00323301 1.00744746 1.56430376]\n",
      " [2.00797173 2.3291075  1.16027482 1.51821122 1.3817182 ]\n",
      " [1.99692594 2.45487726 1.29099427 1.84388937 2.08530049]\n",
      " [1.70230566 1.45753682 2.48447386 2.70428665 2.20768112]\n",
      " [1.48719824 1.58964408 2.22100282 1.70131188 1.39129655]]\n"
     ]
    }
   ],
   "source": [
    "# Exponentiation\n",
    "\n",
    "print(np.exp(arr))"
   ]
  },
  {
   "cell_type": "code",
   "execution_count": 35,
   "metadata": {},
   "outputs": [
    {
     "name": "stdout",
     "output_type": "stream",
     "text": [
      "[[-0.70129284 -1.52470611 -0.36418539 -4.90359436 -0.80421095]\n",
      " [-0.36079037 -0.16784468 -1.90611439 -0.87339214 -1.12908862]\n",
      " [-0.36873456 -0.10749973 -1.36487471 -0.49122379 -0.3080032 ]\n",
      " [-0.63114261 -0.97617902 -0.09424374 -0.0051752  -0.23326624]\n",
      " [-0.92408611 -0.76892701 -0.22569829 -0.63224091 -1.10794747]]\n"
     ]
    }
   ],
   "source": [
    "# Natural logarithm\n",
    "\n",
    "print(np.log(arr))"
   ]
  },
  {
   "cell_type": "code",
   "execution_count": 36,
   "metadata": {},
   "outputs": [
    {
     "name": "stdout",
     "output_type": "stream",
     "text": [
      "[[-1.0117517  -2.19968595 -0.52540846 -7.07439126 -1.16023115]\n",
      " [-0.52051048 -0.24214868 -2.74994178 -1.26003851 -1.62893055]\n",
      " [-0.53197152 -0.15508933 -1.96909797 -0.70868613 -0.44435469]\n",
      " [-0.91054631 -1.40832863 -0.13596498 -0.00746624 -0.33653205]\n",
      " [-1.33317444 -1.10932719 -0.32561381 -0.91213082 -1.59843032]]\n"
     ]
    }
   ],
   "source": [
    "# Base 2 logarithm\n",
    "\n",
    "print(np.log2(arr))"
   ]
  },
  {
   "cell_type": "code",
   "execution_count": 37,
   "metadata": {},
   "outputs": [
    {
     "name": "stdout",
     "output_type": "stream",
     "text": [
      "[[-0.30456761 -0.66217145 -0.15816371 -2.12960397 -0.34926438]\n",
      " [-0.15668927 -0.07289402 -0.82781496 -0.37930939 -0.49035696]\n",
      " [-0.16013939 -0.04668654 -0.59275755 -0.21333578 -0.13376409]\n",
      " [-0.27410175 -0.42394916 -0.04092954 -0.00224756 -0.10130624]\n",
      " [-0.4013255  -0.33394076 -0.09801952 -0.27457874 -0.48117547]]\n"
     ]
    }
   ],
   "source": [
    "# Base 10 logarithm\n",
    "\n",
    "print(np.log10(arr))"
   ]
  },
  {
   "cell_type": "code",
   "execution_count": 38,
   "metadata": {},
   "outputs": [
    {
     "name": "stdout",
     "output_type": "stream",
     "text": [
      "[[0.47586188 0.21596986 0.64020292 0.0074198  0.43265972]\n",
      " [0.6420162  0.74829303 0.14810997 0.40550645 0.31772368]\n",
      " [0.63777727 0.78212996 0.25264472 0.57440503 0.67052259]\n",
      " [0.50724381 0.3678984  0.78954112 0.83867083 0.71171929]\n",
      " [0.38655563 0.44709064 0.71593249 0.50674047 0.32426637]]\n"
     ]
    }
   ],
   "source": [
    "# sin function\n",
    "\n",
    "print(np.sin(arr))"
   ]
  },
  {
   "cell_type": "code",
   "execution_count": 39,
   "metadata": {},
   "outputs": [
    {
     "name": "stdout",
     "output_type": "stream",
     "text": [
      "-0.8011526357338304\n"
     ]
    }
   ],
   "source": [
    "print(np.sin(180))"
   ]
  },
  {
   "cell_type": "code",
   "execution_count": 40,
   "metadata": {},
   "outputs": [
    {
     "name": "stdout",
     "output_type": "stream",
     "text": [
      "0.0\n"
     ]
    }
   ],
   "source": [
    "print(np.sin(0))"
   ]
  },
  {
   "cell_type": "code",
   "execution_count": 41,
   "metadata": {},
   "outputs": [
    {
     "name": "stdout",
     "output_type": "stream",
     "text": [
      "[[0.87952002 0.97640003 0.76820585 0.99997247 0.9015573 ]\n",
      " [0.76669107 0.66336833 0.9889709  0.91409218 0.94818335]\n",
      " [0.77022085 0.62311534 0.96755912 0.81857123 0.74188912]\n",
      " [0.8618026  0.92986599 0.61369766 0.54463862 0.70246399]\n",
      " [0.92226609 0.89448866 0.69816951 0.86209866 0.94596582]]\n"
     ]
    }
   ],
   "source": [
    "# cos function\n",
    "\n",
    "print(np.cos(arr))"
   ]
  },
  {
   "cell_type": "code",
   "execution_count": 42,
   "metadata": {},
   "outputs": [
    {
     "name": "stdout",
     "output_type": "stream",
     "text": [
      "[[0.49594371 0.21768502 0.69476238 0.00741987 0.44744084]\n",
      " [0.69712512 0.84548515 0.14865689 0.41753281 0.3233278 ]\n",
      " [0.69160897 0.89807677 0.25541268 0.61187713 0.73491297]\n",
      " [0.5319836  0.3767479  0.91006091 0.99483816 0.7919427 ]\n",
      " [0.39689397 0.46351014 0.79795882 0.53139965 0.33023608]]\n"
     ]
    }
   ],
   "source": [
    "print(arr)"
   ]
  },
  {
   "cell_type": "code",
   "execution_count": 43,
   "metadata": {},
   "outputs": [
    {
     "name": "stdout",
     "output_type": "stream",
     "text": [
      "[2.81355538 2.80150498 2.80685167 2.56306762 2.62786039]\n"
     ]
    }
   ],
   "source": [
    "# sum along the row\n",
    "print(np.sum(arr, axis=0))"
   ]
  },
  {
   "cell_type": "code",
   "execution_count": 44,
   "metadata": {},
   "outputs": [
    {
     "name": "stdout",
     "output_type": "stream",
     "text": [
      "[1.86325182 2.43212777 3.1918885  3.60557328 2.51999866]\n"
     ]
    }
   ],
   "source": [
    "# sum along the column\n",
    "print(np.sum(arr, axis=1))"
   ]
  },
  {
   "cell_type": "code",
   "execution_count": 45,
   "metadata": {},
   "outputs": [
    {
     "name": "stdout",
     "output_type": "stream",
     "text": [
      "0.007419865441084861\n"
     ]
    }
   ],
   "source": [
    "# minimum item value along the row\n",
    "print(np.min(arr))"
   ]
  },
  {
   "cell_type": "code",
   "execution_count": 46,
   "metadata": {},
   "outputs": [
    {
     "name": "stdout",
     "output_type": "stream",
     "text": [
      "0.994838163773579\n"
     ]
    }
   ],
   "source": [
    "print(np.max(arr))"
   ]
  },
  {
   "cell_type": "code",
   "execution_count": 47,
   "metadata": {},
   "outputs": [
    {
     "name": "stdout",
     "output_type": "stream",
     "text": [
      "0.5445136013098181\n"
     ]
    }
   ],
   "source": [
    "# calculate the overall mean\n",
    "\n",
    "print(np.mean(arr))"
   ]
  },
  {
   "cell_type": "code",
   "execution_count": 48,
   "metadata": {},
   "outputs": [
    {
     "name": "stdout",
     "output_type": "stream",
     "text": [
      "[0.56271108 0.560301   0.56137033 0.51261352 0.52557208]\n"
     ]
    }
   ],
   "source": [
    "# calculate the mean along the row\n",
    "\n",
    "print(np.mean(arr, axis=0))"
   ]
  },
  {
   "cell_type": "code",
   "execution_count": 49,
   "metadata": {},
   "outputs": [
    {
     "name": "stdout",
     "output_type": "stream",
     "text": [
      "0.5313996474815373\n"
     ]
    }
   ],
   "source": [
    "# calculate the median\n",
    "print(np.median(arr))"
   ]
  },
  {
   "cell_type": "code",
   "execution_count": 50,
   "metadata": {},
   "outputs": [
    {
     "name": "stdout",
     "output_type": "stream",
     "text": [
      "0.2530529937952706\n"
     ]
    }
   ],
   "source": [
    "# calculate the standard deviation\n",
    "print(np.std(arr))"
   ]
  },
  {
   "cell_type": "code",
   "execution_count": 51,
   "metadata": {},
   "outputs": [
    {
     "name": "stdout",
     "output_type": "stream",
     "text": [
      "0.06403581766874926\n"
     ]
    }
   ],
   "source": [
    "# calculate the variance\n",
    "print(np.var(arr))"
   ]
  },
  {
   "cell_type": "code",
   "execution_count": 52,
   "metadata": {},
   "outputs": [
    {
     "name": "stdout",
     "output_type": "stream",
     "text": [
      "[[0.49594371 0.21768502 0.69476238 0.00741987 0.44744084]\n",
      " [0.69712512 0.84548515 0.14865689 0.41753281 0.3233278 ]\n",
      " [0.69160897 0.89807677 0.25541268 0.61187713 0.73491297]\n",
      " [0.5319836  0.3767479  0.91006091 0.99483816 0.7919427 ]\n",
      " [0.39689397 0.46351014 0.79795882 0.53139965 0.33023608]]\n",
      "\n",
      "\n",
      "[[0.14865689 0.41753281 0.3233278 ]\n",
      " [0.25541268 0.61187713 0.73491297]]\n"
     ]
    }
   ],
   "source": [
    "print(arr)\n",
    "print('\\n')\n",
    "print(arr[1:3, 2:5])"
   ]
  },
  {
   "cell_type": "code",
   "execution_count": 53,
   "metadata": {},
   "outputs": [
    {
     "name": "stdout",
     "output_type": "stream",
     "text": [
      "[[0.68751282 0.85769013 0.66237078 0.6133892  0.74190493]\n",
      " [0.18152674 0.58039301 0.56061448 0.29762193 0.90494967]\n",
      " [0.71943995 0.17396257 0.99490009 0.63948619 0.88627087]\n",
      " [0.795357   0.09324764 0.86996225 0.91528843 0.32231884]\n",
      " [0.97149297 0.76163771 0.56337065 0.87601076 0.02286082]]\n"
     ]
    }
   ],
   "source": [
    "# Sort an array\n",
    "arr = np.random.rand(5,5)\n",
    "print(arr)"
   ]
  },
  {
   "cell_type": "code",
   "execution_count": 54,
   "metadata": {},
   "outputs": [
    {
     "name": "stdout",
     "output_type": "stream",
     "text": [
      "[[0.6133892  0.66237078 0.68751282 0.74190493 0.85769013]\n",
      " [0.18152674 0.29762193 0.56061448 0.58039301 0.90494967]\n",
      " [0.17396257 0.63948619 0.71943995 0.88627087 0.99490009]\n",
      " [0.09324764 0.32231884 0.795357   0.86996225 0.91528843]\n",
      " [0.02286082 0.56337065 0.76163771 0.87601076 0.97149297]]\n"
     ]
    }
   ],
   "source": [
    "# sort along the column\n",
    "\n",
    "print(np.sort(arr, axis=1))"
   ]
  },
  {
   "cell_type": "code",
   "execution_count": 55,
   "metadata": {},
   "outputs": [
    {
     "name": "stdout",
     "output_type": "stream",
     "text": [
      "[[0.68751282 0.85769013 0.66237078 0.6133892  0.74190493]\n",
      " [0.18152674 0.58039301 0.56061448 0.29762193 0.90494967]\n",
      " [0.71943995 0.17396257 0.99490009 0.63948619 0.88627087]\n",
      " [0.795357   0.09324764 0.86996225 0.91528843 0.32231884]\n",
      " [0.97149297 0.76163771 0.56337065 0.87601076 0.02286082]]\n",
      "\n",
      "\n",
      "[[0.68751282 0.18152674 0.71943995 0.795357   0.97149297]\n",
      " [0.85769013 0.58039301 0.17396257 0.09324764 0.76163771]\n",
      " [0.66237078 0.56061448 0.99490009 0.86996225 0.56337065]\n",
      " [0.6133892  0.29762193 0.63948619 0.91528843 0.87601076]\n",
      " [0.74190493 0.90494967 0.88627087 0.32231884 0.02286082]]\n"
     ]
    }
   ],
   "source": [
    "# Transpose an array\n",
    "print(arr)\n",
    "print('\\n')\n",
    "print(arr.T)"
   ]
  },
  {
   "cell_type": "code",
   "execution_count": 56,
   "metadata": {},
   "outputs": [
    {
     "name": "stdout",
     "output_type": "stream",
     "text": [
      "[[0.68751282 0.18152674 0.71943995 0.795357   0.97149297]\n",
      " [0.85769013 0.58039301 0.17396257 0.09324764 0.76163771]\n",
      " [0.66237078 0.56061448 0.99490009 0.86996225 0.56337065]\n",
      " [0.6133892  0.29762193 0.63948619 0.91528843 0.87601076]\n",
      " [0.74190493 0.90494967 0.88627087 0.32231884 0.02286082]]\n"
     ]
    }
   ],
   "source": [
    "print(arr.transpose())"
   ]
  },
  {
   "cell_type": "code",
   "execution_count": 57,
   "metadata": {},
   "outputs": [
    {
     "name": "stdout",
     "output_type": "stream",
     "text": [
      "[[0.68751282 0.85769013 0.66237078 0.6133892  0.74190493]\n",
      " [0.18152674 0.58039301 0.56061448 0.29762193 0.90494967]\n",
      " [0.71943995 0.17396257 0.99490009 0.63948619 0.88627087]\n",
      " [0.795357   0.09324764 0.86996225 0.91528843 0.32231884]\n",
      " [0.97149297 0.76163771 0.56337065 0.87601076 0.02286082]]\n",
      "\n",
      "\n",
      "[0.68751282 0.85769013 0.66237078 0.6133892  0.74190493 0.18152674\n",
      " 0.58039301 0.56061448 0.29762193 0.90494967 0.71943995 0.17396257\n",
      " 0.99490009 0.63948619 0.88627087 0.795357   0.09324764 0.86996225\n",
      " 0.91528843 0.32231884 0.97149297 0.76163771 0.56337065 0.87601076\n",
      " 0.02286082]\n"
     ]
    }
   ],
   "source": [
    "# Flatten the 2D array\n",
    "\n",
    "print(arr)\n",
    "print('\\n')\n",
    "print(arr.flatten())"
   ]
  },
  {
   "cell_type": "code",
   "execution_count": 58,
   "metadata": {},
   "outputs": [],
   "source": [
    "# Append elements to an array\n",
    "\n",
    "arr = np.array([4,5,6,7])"
   ]
  },
  {
   "cell_type": "code",
   "execution_count": 59,
   "metadata": {},
   "outputs": [
    {
     "data": {
      "text/plain": [
       "array([4, 5, 6, 7, 8])"
      ]
     },
     "execution_count": 59,
     "metadata": {},
     "output_type": "execute_result"
    }
   ],
   "source": [
    "arr1 = np.append(arr, 8)\n",
    "arr1"
   ]
  },
  {
   "cell_type": "code",
   "execution_count": 60,
   "metadata": {},
   "outputs": [
    {
     "name": "stdout",
     "output_type": "stream",
     "text": [
      "[ 4  5  6  7  9 10 11]\n"
     ]
    }
   ],
   "source": [
    "arr2 = np.append(arr, [9,10,11])\n",
    "print(arr2)"
   ]
  },
  {
   "cell_type": "code",
   "execution_count": 61,
   "metadata": {},
   "outputs": [
    {
     "name": "stdout",
     "output_type": "stream",
     "text": [
      "[12 13 14  4  5  6  7]\n"
     ]
    }
   ],
   "source": [
    "# Insert elements to an array\n",
    "\n",
    "arr3 = np.insert(arr, 0, [12,13,14])\n",
    "print(arr3)"
   ]
  },
  {
   "cell_type": "code",
   "execution_count": 62,
   "metadata": {},
   "outputs": [
    {
     "name": "stdout",
     "output_type": "stream",
     "text": [
      "[4 5 6 7]\n",
      "\n",
      "\n",
      "[5 6 7]\n"
     ]
    }
   ],
   "source": [
    "# Remove elements from an array\n",
    "\n",
    "print(arr)\n",
    "print('\\n')\n",
    "arr4 = np.delete(arr, 0)\n",
    "print(arr4)"
   ]
  },
  {
   "cell_type": "code",
   "execution_count": 63,
   "metadata": {},
   "outputs": [
    {
     "name": "stdout",
     "output_type": "stream",
     "text": [
      "[ 4  5  6  7  9 10 11]\n",
      "\n",
      "\n",
      "[ 4  6  7 10 11]\n"
     ]
    }
   ],
   "source": [
    "# Delete multiple elements\n",
    "\n",
    "print(arr2)\n",
    "print('\\n')\n",
    "arr5 = np.delete(arr2, [1,4])\n",
    "print(arr5)"
   ]
  },
  {
   "cell_type": "code",
   "execution_count": 64,
   "metadata": {},
   "outputs": [
    {
     "data": {
      "text/plain": [
       "array([10, 13, 16, 19, 22, 25, 28, 31, 34, 37])"
      ]
     },
     "execution_count": 64,
     "metadata": {},
     "output_type": "execute_result"
    }
   ],
   "source": [
    "# Copy elements from an array\n",
    "\n",
    "arr1 = np.arange(10, 40, 3)\n",
    "arr1"
   ]
  },
  {
   "cell_type": "code",
   "execution_count": 65,
   "metadata": {},
   "outputs": [
    {
     "data": {
      "text/plain": [
       "array([10, 13, 16, 19, 22, 25, 28, 31, 34, 37])"
      ]
     },
     "execution_count": 65,
     "metadata": {},
     "output_type": "execute_result"
    }
   ],
   "source": [
    "arr_copy = np.copy(arr1)\n",
    "arr_copy"
   ]
  },
  {
   "cell_type": "code",
   "execution_count": 66,
   "metadata": {},
   "outputs": [
    {
     "name": "stdout",
     "output_type": "stream",
     "text": [
      "[10 13 16 19 22 25 28 31 34 37]\n"
     ]
    }
   ],
   "source": [
    "arr_copy = arr1.copy()\n",
    "print(arr_copy)"
   ]
  },
  {
   "cell_type": "code",
   "execution_count": 67,
   "metadata": {},
   "outputs": [],
   "source": [
    "# Combine and split an array\n",
    "\n",
    "arr1 = np.array([[1,2,3,4], [1,2,3,4]])\n",
    "arr2 = np.array([[5,6,7,8], [5,6,7,8]])"
   ]
  },
  {
   "cell_type": "code",
   "execution_count": 68,
   "metadata": {},
   "outputs": [
    {
     "name": "stdout",
     "output_type": "stream",
     "text": [
      "[[1 2 3 4]\n",
      " [1 2 3 4]\n",
      " [5 6 7 8]\n",
      " [5 6 7 8]]\n"
     ]
    }
   ],
   "source": [
    "# Combine the array items by row\n",
    "\n",
    "cat = np.concatenate((arr1,arr2), axis=0)\n",
    "print(cat)"
   ]
  },
  {
   "cell_type": "code",
   "execution_count": 69,
   "metadata": {},
   "outputs": [
    {
     "name": "stdout",
     "output_type": "stream",
     "text": [
      "[[1 2 3 4 5 6 7 8]\n",
      " [1 2 3 4 5 6 7 8]]\n"
     ]
    }
   ],
   "source": [
    "# Combine array items by column\n",
    "\n",
    "cat = np. concatenate((arr1, arr2), axis=1)\n",
    "print(cat)"
   ]
  },
  {
   "cell_type": "code",
   "execution_count": 70,
   "metadata": {},
   "outputs": [
    {
     "name": "stdout",
     "output_type": "stream",
     "text": [
      "[[1 2 3 4]\n",
      " [1 2 3 4]\n",
      " [5 6 7 8]\n",
      " [5 6 7 8]]\n"
     ]
    }
   ],
   "source": [
    "# stack arrays vertically\n",
    "cat = np.vstack((arr1, arr2))\n",
    "print(cat)"
   ]
  },
  {
   "cell_type": "code",
   "execution_count": 71,
   "metadata": {},
   "outputs": [
    {
     "name": "stdout",
     "output_type": "stream",
     "text": [
      "[[1 2 3 4 5 6 7 8]\n",
      " [1 2 3 4 5 6 7 8]]\n"
     ]
    }
   ],
   "source": [
    "# Stack arrays horizontally\n",
    "cat = np.hstack((arr1, arr2))\n",
    "print(cat)"
   ]
  },
  {
   "cell_type": "code",
   "execution_count": 72,
   "metadata": {},
   "outputs": [
    {
     "name": "stdout",
     "output_type": "stream",
     "text": [
      "[1 2 3 4 5 6]\n"
     ]
    }
   ],
   "source": [
    "# Set operations\n",
    "\n",
    "# Find elements from an array\n",
    "arr = np.array([1,2,3,4,5,6,3,6,1,2,4])\n",
    "print(np.unique(arr))"
   ]
  },
  {
   "cell_type": "code",
   "execution_count": 73,
   "metadata": {},
   "outputs": [
    {
     "name": "stdout",
     "output_type": "stream",
     "text": [
      "[1 2 3 4 5 6]\n",
      "[2 2 2 1 1 1]\n"
     ]
    }
   ],
   "source": [
    "# return the number of times each unique item appears\n",
    "arr = np.array([1,1,2,2,3,3,4,5,6])\n",
    "uniques, counts = np.unique(arr, return_counts=True)\n",
    "print(uniques)\n",
    "print(counts)"
   ]
  },
  {
   "cell_type": "code",
   "execution_count": 74,
   "metadata": {},
   "outputs": [],
   "source": [
    "# Intersection of 2 array elements\n",
    "\n",
    "arr1 = np.array([1,2,3,4,5])\n",
    "arr2 = np.array([3,4,5,6,7])"
   ]
  },
  {
   "cell_type": "code",
   "execution_count": 75,
   "metadata": {},
   "outputs": [
    {
     "name": "stdout",
     "output_type": "stream",
     "text": [
      "[3 4 5]\n"
     ]
    }
   ],
   "source": [
    "print(np.intersect1d(arr1, arr2))"
   ]
  },
  {
   "cell_type": "code",
   "execution_count": 76,
   "metadata": {},
   "outputs": [
    {
     "name": "stdout",
     "output_type": "stream",
     "text": [
      "[1 2 3 4 5 6 7]\n"
     ]
    }
   ],
   "source": [
    "# Union of 2 array elements\n",
    "\n",
    "print(np.union1d(arr1, arr2))"
   ]
  },
  {
   "cell_type": "code",
   "execution_count": 77,
   "metadata": {},
   "outputs": [
    {
     "name": "stdout",
     "output_type": "stream",
     "text": [
      "[1 2]\n",
      "[6 7]\n"
     ]
    }
   ],
   "source": [
    "# Elements present in first array but not in the second array\n",
    "print(np.setdiff1d(arr1, arr2))\n",
    "print(np.setdiff1d(arr2, arr1))"
   ]
  },
  {
   "cell_type": "code",
   "execution_count": 78,
   "metadata": {},
   "outputs": [
    {
     "name": "stdout",
     "output_type": "stream",
     "text": [
      "[1 2 6 7]\n"
     ]
    }
   ],
   "source": [
    "# Elements present in either of the arrays but not both\n",
    "\n",
    "print(np.setxor1d(arr1, arr2))"
   ]
  }
 ],
 "metadata": {
  "kernelspec": {
   "display_name": "Python 3 (ipykernel)",
   "language": "python",
   "name": "python3"
  },
  "language_info": {
   "codemirror_mode": {
    "name": "ipython",
    "version": 3
   },
   "file_extension": ".py",
   "mimetype": "text/x-python",
   "name": "python",
   "nbconvert_exporter": "python",
   "pygments_lexer": "ipython3",
   "version": "3.9.11"
  }
 },
 "nbformat": 4,
 "nbformat_minor": 2
}
