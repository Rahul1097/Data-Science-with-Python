{
 "cells": [
  {
   "cell_type": "code",
   "execution_count": 1,
   "id": "f2038732",
   "metadata": {},
   "outputs": [],
   "source": [
    "import numpy as np"
   ]
  },
  {
   "cell_type": "code",
   "execution_count": 2,
   "id": "b23cf88e",
   "metadata": {},
   "outputs": [],
   "source": [
    "first_numpy_array = np.array([1,2,3,40])"
   ]
  },
  {
   "cell_type": "code",
   "execution_count": 3,
   "id": "c0c3c2fd",
   "metadata": {},
   "outputs": [
    {
     "data": {
      "text/plain": [
       "array([ 1,  2,  3, 40])"
      ]
     },
     "execution_count": 3,
     "metadata": {},
     "output_type": "execute_result"
    }
   ],
   "source": [
    "first_numpy_array"
   ]
  },
  {
   "cell_type": "code",
   "execution_count": 4,
   "id": "15b9d98a",
   "metadata": {},
   "outputs": [],
   "source": [
    "zeros_array = np.zeros((3,3))"
   ]
  },
  {
   "cell_type": "code",
   "execution_count": 5,
   "id": "e4294af8",
   "metadata": {},
   "outputs": [
    {
     "data": {
      "text/plain": [
       "array([[0., 0., 0.],\n",
       "       [0., 0., 0.],\n",
       "       [0., 0., 0.]])"
      ]
     },
     "execution_count": 5,
     "metadata": {},
     "output_type": "execute_result"
    }
   ],
   "source": [
    "zeros_array"
   ]
  },
  {
   "cell_type": "code",
   "execution_count": 6,
   "id": "b37c2144",
   "metadata": {},
   "outputs": [],
   "source": [
    "ones_array = np.ones((3,3))"
   ]
  },
  {
   "cell_type": "code",
   "execution_count": 7,
   "id": "21a875f7",
   "metadata": {},
   "outputs": [
    {
     "data": {
      "text/plain": [
       "array([[1., 1., 1.],\n",
       "       [1., 1., 1.],\n",
       "       [1., 1., 1.]])"
      ]
     },
     "execution_count": 7,
     "metadata": {},
     "output_type": "execute_result"
    }
   ],
   "source": [
    "ones_array"
   ]
  },
  {
   "cell_type": "code",
   "execution_count": 8,
   "id": "0d0f3b33",
   "metadata": {},
   "outputs": [],
   "source": [
    "empty_array = np.empty((3,3))"
   ]
  },
  {
   "cell_type": "code",
   "execution_count": 9,
   "id": "6d21a2a7",
   "metadata": {},
   "outputs": [
    {
     "data": {
      "text/plain": [
       "array([[1., 1., 1.],\n",
       "       [1., 1., 1.],\n",
       "       [1., 1., 1.]])"
      ]
     },
     "execution_count": 9,
     "metadata": {},
     "output_type": "execute_result"
    }
   ],
   "source": [
    "empty_array"
   ]
  },
  {
   "cell_type": "code",
   "execution_count": 10,
   "id": "79b04b65",
   "metadata": {},
   "outputs": [
    {
     "data": {
      "text/plain": [
       "array([ 0,  1,  2,  3,  4,  5,  6,  7,  8,  9, 10, 11])"
      ]
     },
     "execution_count": 10,
     "metadata": {},
     "output_type": "execute_result"
    }
   ],
   "source": [
    "arange_array = np.arange(12)\n",
    "arange_array"
   ]
  },
  {
   "cell_type": "code",
   "execution_count": 11,
   "id": "b2e2a503",
   "metadata": {},
   "outputs": [
    {
     "data": {
      "text/plain": [
       "array([[ 0,  1,  2,  3],\n",
       "       [ 4,  5,  6,  7],\n",
       "       [ 8,  9, 10, 11]])"
      ]
     },
     "execution_count": 11,
     "metadata": {},
     "output_type": "execute_result"
    }
   ],
   "source": [
    "arange_array.reshape(3,4)"
   ]
  },
  {
   "cell_type": "code",
   "execution_count": 12,
   "id": "c3d569cc",
   "metadata": {},
   "outputs": [
    {
     "data": {
      "text/plain": [
       "array([ 0,  1,  2,  3,  4,  5,  6,  7,  8,  9, 10, 11])"
      ]
     },
     "execution_count": 12,
     "metadata": {},
     "output_type": "execute_result"
    }
   ],
   "source": [
    "arange_array"
   ]
  },
  {
   "cell_type": "code",
   "execution_count": 13,
   "id": "73b6b791",
   "metadata": {},
   "outputs": [],
   "source": [
    "linspaced = np.linspace(1,6,3)"
   ]
  },
  {
   "cell_type": "code",
   "execution_count": 14,
   "id": "8c30fb32",
   "metadata": {},
   "outputs": [
    {
     "data": {
      "text/plain": [
       "array([1. , 3.5, 6. ])"
      ]
     },
     "execution_count": 14,
     "metadata": {},
     "output_type": "execute_result"
    }
   ],
   "source": [
    "linspaced"
   ]
  },
  {
   "cell_type": "code",
   "execution_count": 15,
   "id": "cc5a1a3d",
   "metadata": {},
   "outputs": [],
   "source": [
    "ThreeD_array = np.arange(27).reshape(3,3,3)"
   ]
  },
  {
   "cell_type": "code",
   "execution_count": 16,
   "id": "0ada8fe1",
   "metadata": {},
   "outputs": [
    {
     "data": {
      "text/plain": [
       "array([[[ 0,  1,  2],\n",
       "        [ 3,  4,  5],\n",
       "        [ 6,  7,  8]],\n",
       "\n",
       "       [[ 9, 10, 11],\n",
       "        [12, 13, 14],\n",
       "        [15, 16, 17]],\n",
       "\n",
       "       [[18, 19, 20],\n",
       "        [21, 22, 23],\n",
       "        [24, 25, 26]]])"
      ]
     },
     "execution_count": 16,
     "metadata": {},
     "output_type": "execute_result"
    }
   ],
   "source": [
    "ThreeD_array"
   ]
  },
  {
   "cell_type": "code",
   "execution_count": 17,
   "id": "3f1b1489",
   "metadata": {},
   "outputs": [
    {
     "data": {
      "text/plain": [
       "65"
      ]
     },
     "execution_count": 17,
     "metadata": {},
     "output_type": "execute_result"
    }
   ],
   "source": [
    "np.add(45,20)"
   ]
  },
  {
   "cell_type": "code",
   "execution_count": 18,
   "id": "65e958e1",
   "metadata": {},
   "outputs": [
    {
     "data": {
      "text/plain": [
       "19"
      ]
     },
     "execution_count": 18,
     "metadata": {},
     "output_type": "execute_result"
    }
   ],
   "source": [
    "np.subtract(23,4)"
   ]
  },
  {
   "cell_type": "code",
   "execution_count": 19,
   "id": "2c1173e2",
   "metadata": {},
   "outputs": [],
   "source": [
    "np.daily_earning = np.array([7,6,5,9,3,4,5])*15"
   ]
  },
  {
   "cell_type": "code",
   "execution_count": 20,
   "id": "78c79ad0",
   "metadata": {},
   "outputs": [
    {
     "data": {
      "text/plain": [
       "array([105,  90,  75, 135,  45,  60,  75])"
      ]
     },
     "execution_count": 20,
     "metadata": {},
     "output_type": "execute_result"
    }
   ],
   "source": [
    "np.daily_earning"
   ]
  },
  {
   "cell_type": "code",
   "execution_count": 21,
   "id": "12aac53e",
   "metadata": {},
   "outputs": [
    {
     "data": {
      "text/plain": [
       "585"
      ]
     },
     "execution_count": 21,
     "metadata": {},
     "output_type": "execute_result"
    }
   ],
   "source": [
    "sum(np.daily_earning)"
   ]
  },
  {
   "cell_type": "code",
   "execution_count": 22,
   "id": "f05804d4",
   "metadata": {},
   "outputs": [],
   "source": [
    "weekly_hrs = np.array([34,43,45,47,38])"
   ]
  },
  {
   "cell_type": "code",
   "execution_count": 23,
   "id": "8767bd33",
   "metadata": {},
   "outputs": [
    {
     "data": {
      "text/plain": [
       "array([34, 38])"
      ]
     },
     "execution_count": 23,
     "metadata": {},
     "output_type": "execute_result"
    }
   ],
   "source": [
    "weekly_hrs[weekly_hrs<40]"
   ]
  },
  {
   "cell_type": "code",
   "execution_count": 24,
   "id": "5b7a24c3",
   "metadata": {},
   "outputs": [
    {
     "data": {
      "text/plain": [
       "array([False,  True, False, False,  True])"
      ]
     },
     "execution_count": 24,
     "metadata": {},
     "output_type": "execute_result"
    }
   ],
   "source": [
    "#Logical operators\n",
    "np.logical_and(weekly_hrs>35,weekly_hrs<45)"
   ]
  },
  {
   "cell_type": "code",
   "execution_count": 25,
   "id": "63ad21d1",
   "metadata": {},
   "outputs": [],
   "source": [
    "np_sqrt = np.sqrt([2,3,4,5])"
   ]
  },
  {
   "cell_type": "code",
   "execution_count": 26,
   "id": "e1fa1f64",
   "metadata": {},
   "outputs": [
    {
     "data": {
      "text/plain": [
       "array([1.41421356, 1.73205081, 2.        , 2.23606798])"
      ]
     },
     "execution_count": 26,
     "metadata": {},
     "output_type": "execute_result"
    }
   ],
   "source": [
    "np_sqrt"
   ]
  },
  {
   "cell_type": "code",
   "execution_count": 27,
   "id": "3a1e95a9",
   "metadata": {},
   "outputs": [],
   "source": [
    "from numpy import pi"
   ]
  },
  {
   "cell_type": "code",
   "execution_count": 28,
   "id": "026148d9",
   "metadata": {},
   "outputs": [
    {
     "data": {
      "text/plain": [
       "1.0"
      ]
     },
     "execution_count": 28,
     "metadata": {},
     "output_type": "execute_result"
    }
   ],
   "source": [
    "np.sin(pi/2)"
   ]
  },
  {
   "cell_type": "code",
   "execution_count": 33,
   "id": "9c4ea8f8",
   "metadata": {},
   "outputs": [],
   "source": [
    "#shape Manipulation"
   ]
  },
  {
   "cell_type": "code",
   "execution_count": 36,
   "id": "726223a0",
   "metadata": {},
   "outputs": [],
   "source": [
    "data_array = np.array([[ 0,  1,  2,  3],[ 4,  5,  6,  7],[ 8,  9, 10, 11]])"
   ]
  },
  {
   "cell_type": "code",
   "execution_count": 37,
   "id": "d84ac1d8",
   "metadata": {},
   "outputs": [
    {
     "data": {
      "text/plain": [
       "array([ 0,  1,  2,  3,  4,  5,  6,  7,  8,  9, 10, 11])"
      ]
     },
     "execution_count": 37,
     "metadata": {},
     "output_type": "execute_result"
    }
   ],
   "source": [
    "data_array.ravel()"
   ]
  },
  {
   "cell_type": "code",
   "execution_count": 39,
   "id": "8d49d753",
   "metadata": {},
   "outputs": [
    {
     "data": {
      "text/plain": [
       "array([[ 0,  1,  2,  3,  4,  5],\n",
       "       [ 6,  7,  8,  9, 10, 11]])"
      ]
     },
     "execution_count": 39,
     "metadata": {},
     "output_type": "execute_result"
    }
   ],
   "source": [
    "data_array.reshape(2,6)"
   ]
  },
  {
   "cell_type": "code",
   "execution_count": 40,
   "id": "3cd453a4",
   "metadata": {},
   "outputs": [],
   "source": [
    "data_array.resize(3,4)"
   ]
  },
  {
   "cell_type": "code",
   "execution_count": 41,
   "id": "3d9ce76c",
   "metadata": {},
   "outputs": [
    {
     "data": {
      "text/plain": [
       "array([[ 0,  1,  2,  3],\n",
       "       [ 4,  5,  6,  7],\n",
       "       [ 8,  9, 10, 11]])"
      ]
     },
     "execution_count": 41,
     "metadata": {},
     "output_type": "execute_result"
    }
   ],
   "source": [
    "data_array"
   ]
  },
  {
   "cell_type": "code",
   "execution_count": 42,
   "id": "56fe153f",
   "metadata": {},
   "outputs": [
    {
     "data": {
      "text/plain": [
       "[array([[0, 1],\n",
       "        [4, 5],\n",
       "        [8, 9]]),\n",
       " array([[ 2,  3],\n",
       "        [ 6,  7],\n",
       "        [10, 11]])]"
      ]
     },
     "execution_count": 42,
     "metadata": {},
     "output_type": "execute_result"
    }
   ],
   "source": [
    "np.hsplit(data_array,2)"
   ]
  },
  {
   "cell_type": "code",
   "execution_count": 44,
   "id": "ea437408",
   "metadata": {},
   "outputs": [
    {
     "data": {
      "text/plain": [
       "array([[0., 0., 0., 1., 1., 1.],\n",
       "       [0., 0., 0., 1., 1., 1.],\n",
       "       [0., 0., 0., 1., 1., 1.]])"
      ]
     },
     "execution_count": 44,
     "metadata": {},
     "output_type": "execute_result"
    }
   ],
   "source": [
    "np.hstack((zeros_array,ones_array))"
   ]
  },
  {
   "cell_type": "code",
   "execution_count": 45,
   "id": "c7b29697",
   "metadata": {},
   "outputs": [
    {
     "data": {
      "text/plain": [
       "array([[ 0,  4,  8],\n",
       "       [ 1,  5,  9],\n",
       "       [ 2,  6, 10],\n",
       "       [ 3,  7, 11]])"
      ]
     },
     "execution_count": 45,
     "metadata": {},
     "output_type": "execute_result"
    }
   ],
   "source": [
    "data_array.transpose()"
   ]
  },
  {
   "cell_type": "code",
   "execution_count": 47,
   "id": "c2957135",
   "metadata": {},
   "outputs": [],
   "source": [
    "square = np.array([[23,45],[23,44]])"
   ]
  },
  {
   "cell_type": "code",
   "execution_count": 48,
   "id": "c5df205e",
   "metadata": {},
   "outputs": [
    {
     "data": {
      "text/plain": [
       "array([[23, 45],\n",
       "       [23, 44]])"
      ]
     },
     "execution_count": 48,
     "metadata": {},
     "output_type": "execute_result"
    }
   ],
   "source": [
    "square"
   ]
  },
  {
   "cell_type": "code",
   "execution_count": 49,
   "id": "1c7c6125",
   "metadata": {},
   "outputs": [
    {
     "data": {
      "text/plain": [
       "array([[-1.91304348,  1.95652174],\n",
       "       [ 1.        , -1.        ]])"
      ]
     },
     "execution_count": 49,
     "metadata": {},
     "output_type": "execute_result"
    }
   ],
   "source": [
    "#inverse of matrix\n",
    "np.linalg.inv(square)"
   ]
  },
  {
   "cell_type": "code",
   "execution_count": 50,
   "id": "b2461ddd",
   "metadata": {},
   "outputs": [
    {
     "data": {
      "text/plain": [
       "67"
      ]
     },
     "execution_count": 50,
     "metadata": {},
     "output_type": "execute_result"
    }
   ],
   "source": [
    "np.trace(square)"
   ]
  },
  {
   "cell_type": "code",
   "execution_count": null,
   "id": "df2dc9a4",
   "metadata": {},
   "outputs": [],
   "source": []
  }
 ],
 "metadata": {
  "kernelspec": {
   "display_name": "Python 3 (ipykernel)",
   "language": "python",
   "name": "python3"
  },
  "language_info": {
   "codemirror_mode": {
    "name": "ipython",
    "version": 3
   },
   "file_extension": ".py",
   "mimetype": "text/x-python",
   "name": "python",
   "nbconvert_exporter": "python",
   "pygments_lexer": "ipython3",
   "version": "3.9.7"
  }
 },
 "nbformat": 4,
 "nbformat_minor": 5
}
