{
 "cells": [
  {
   "cell_type": "markdown",
   "id": "96de2789",
   "metadata": {},
   "source": [
    "# Scipy Integrations"
   ]
  },
  {
   "cell_type": "code",
   "execution_count": 1,
   "id": "4737d30c",
   "metadata": {},
   "outputs": [],
   "source": [
    "from scipy.integrate import quad"
   ]
  },
  {
   "cell_type": "code",
   "execution_count": 2,
   "id": "45f60504",
   "metadata": {},
   "outputs": [],
   "source": [
    "def integrate_function(x):\n",
    "    return x"
   ]
  },
  {
   "cell_type": "code",
   "execution_count": 3,
   "id": "aa2961e9",
   "metadata": {},
   "outputs": [
    {
     "data": {
      "text/plain": [
       "(0.5, 5.551115123125783e-15)"
      ]
     },
     "execution_count": 3,
     "metadata": {},
     "output_type": "execute_result"
    }
   ],
   "source": [
    "quad(integrate_function,0,1)"
   ]
  },
  {
   "cell_type": "code",
   "execution_count": 4,
   "id": "a32baa83",
   "metadata": {},
   "outputs": [],
   "source": [
    "def int_func(x,a,b):\n",
    "    return a*x+b"
   ]
  },
  {
   "cell_type": "code",
   "execution_count": 5,
   "id": "795e73a1",
   "metadata": {},
   "outputs": [],
   "source": [
    "a = 3\n",
    "b = 2"
   ]
  },
  {
   "cell_type": "code",
   "execution_count": 6,
   "id": "507853f3",
   "metadata": {},
   "outputs": [
    {
     "data": {
      "text/plain": [
       "(3.5, 3.885780586188048e-14)"
      ]
     },
     "execution_count": 6,
     "metadata": {},
     "output_type": "execute_result"
    }
   ],
   "source": [
    "quad(int_func,0,1,args=(a,b))"
   ]
  },
  {
   "cell_type": "code",
   "execution_count": 8,
   "id": "05fe1f38",
   "metadata": {},
   "outputs": [],
   "source": [
    "from scipy import integrate"
   ]
  },
  {
   "cell_type": "code",
   "execution_count": 9,
   "id": "50454005",
   "metadata": {},
   "outputs": [],
   "source": [
    "def f(x,y):\n",
    "    return x+y"
   ]
  },
  {
   "cell_type": "code",
   "execution_count": 10,
   "id": "7ac5aae4",
   "metadata": {},
   "outputs": [
    {
     "data": {
      "text/plain": [
       "(3.0, 4.436070580899685e-14)"
      ]
     },
     "execution_count": 10,
     "metadata": {},
     "output_type": "execute_result"
    }
   ],
   "source": [
    "integrate.dblquad(f,0,1,lambda x:0 , lambda x: 2)"
   ]
  },
  {
   "cell_type": "markdown",
   "id": "39d67efb",
   "metadata": {},
   "source": [
    "# Scipy Optimizations"
   ]
  },
  {
   "cell_type": "code",
   "execution_count": 12,
   "id": "40a8bd85",
   "metadata": {},
   "outputs": [],
   "source": [
    "import numpy as np\n",
    "from scipy import optimize"
   ]
  },
  {
   "cell_type": "code",
   "execution_count": 13,
   "id": "3b503506",
   "metadata": {},
   "outputs": [],
   "source": [
    "def f(x):\n",
    "    return x*x + 5 *np.sin(x)"
   ]
  },
  {
   "cell_type": "code",
   "execution_count": 14,
   "id": "4e1385cb",
   "metadata": {},
   "outputs": [
    {
     "name": "stdout",
     "output_type": "stream",
     "text": [
      "Optimization terminated successfully.\n",
      "         Current function value: -3.246394\n",
      "         Iterations: 5\n",
      "         Function evaluations: 18\n",
      "         Gradient evaluations: 9\n"
     ]
    }
   ],
   "source": [
    "minima_value = optimize.minimize(f,x0=2,method = 'bfgs',options = {'disp':True})"
   ]
  },
  {
   "cell_type": "code",
   "execution_count": 15,
   "id": "42057fc8",
   "metadata": {},
   "outputs": [
    {
     "data": {
      "text/plain": [
       "      fun: -3.2463942726915196\n",
       " hess_inv: array([[0.15445831]])\n",
       "      jac: array([-4.47034836e-07])\n",
       "  message: 'Optimization terminated successfully.'\n",
       "     nfev: 18\n",
       "      nit: 5\n",
       "     njev: 9\n",
       "   status: 0\n",
       "  success: True\n",
       "        x: array([-1.11051058])"
      ]
     },
     "execution_count": 15,
     "metadata": {},
     "output_type": "execute_result"
    }
   ],
   "source": [
    "minimavaluewithoutopt = optimize.minimize(f,x0=2,method = 'bfgs')\n",
    "minimavaluewithoutopt"
   ]
  },
  {
   "cell_type": "markdown",
   "id": "f573732d",
   "metadata": {},
   "source": [
    "# Inverse Matrix"
   ]
  },
  {
   "cell_type": "code",
   "execution_count": 19,
   "id": "68130887",
   "metadata": {},
   "outputs": [],
   "source": [
    "mat = np.array([[3,7],[2,2]])"
   ]
  },
  {
   "cell_type": "code",
   "execution_count": 20,
   "id": "70311577",
   "metadata": {},
   "outputs": [
    {
     "data": {
      "text/plain": [
       "array([[-0.25 ,  0.875],\n",
       "       [ 0.25 , -0.375]])"
      ]
     },
     "execution_count": 20,
     "metadata": {},
     "output_type": "execute_result"
    }
   ],
   "source": [
    "from scipy import linalg\n",
    "linalg.inv(mat)"
   ]
  },
  {
   "cell_type": "markdown",
   "id": "7989f125",
   "metadata": {},
   "source": [
    "# Determinant of Matrix"
   ]
  },
  {
   "cell_type": "code",
   "execution_count": 23,
   "id": "b06b9595",
   "metadata": {},
   "outputs": [
    {
     "data": {
      "text/plain": [
       "-8.0"
      ]
     },
     "execution_count": 23,
     "metadata": {},
     "output_type": "execute_result"
    }
   ],
   "source": [
    "linalg.det(mat)"
   ]
  },
  {
   "cell_type": "markdown",
   "id": "f1a33165",
   "metadata": {},
   "source": [
    "# Solve Linear Equation"
   ]
  },
  {
   "cell_type": "code",
   "execution_count": 25,
   "id": "2ee41771",
   "metadata": {},
   "outputs": [],
   "source": [
    "#2x+3y+z = 21\n",
    "#-x+5y+4z = 9\n",
    "#3x+2y+9z = 14"
   ]
  },
  {
   "cell_type": "code",
   "execution_count": 27,
   "id": "70d3ee82",
   "metadata": {},
   "outputs": [],
   "source": [
    "numarr = np.array([[2,3,1],[-1,5,4],[3,2,9]])"
   ]
  },
  {
   "cell_type": "code",
   "execution_count": 28,
   "id": "f168f267",
   "metadata": {},
   "outputs": [],
   "source": [
    "numarrValue = np.array([21,9,14])"
   ]
  },
  {
   "cell_type": "code",
   "execution_count": 29,
   "id": "e8eee027",
   "metadata": {},
   "outputs": [
    {
     "data": {
      "text/plain": [
       "array([ 5.41666667,  3.75      , -1.08333333])"
      ]
     },
     "execution_count": 29,
     "metadata": {},
     "output_type": "execute_result"
    }
   ],
   "source": [
    "linalg.solve(numarr,numarrValue)"
   ]
  },
  {
   "cell_type": "code",
   "execution_count": 30,
   "id": "787b92f0",
   "metadata": {},
   "outputs": [
    {
     "data": {
      "text/plain": [
       "(array([[-0.2344097 , -0.33590599, -0.91226052],\n",
       "        [-0.48608065, -0.77217819,  0.40922663],\n",
       "        [-0.84188936,  0.53935888,  0.01772866]]),\n",
       " array([11.16574895,  4.40001239,  2.44252764]),\n",
       " array([[-0.22465191, -0.43144541, -0.87371985],\n",
       "        [ 0.39055409, -0.86133648,  0.32491072],\n",
       "        [-0.89274802, -0.26824305,  0.36200365]]))"
      ]
     },
     "execution_count": 30,
     "metadata": {},
     "output_type": "execute_result"
    }
   ],
   "source": [
    "#singlular Value Decomposition(SVD)\n",
    "linalg.svd(numarr)"
   ]
  },
  {
   "cell_type": "markdown",
   "id": "af72669a",
   "metadata": {},
   "source": [
    "# Eigen Values and Eigen Vectors"
   ]
  },
  {
   "cell_type": "code",
   "execution_count": 32,
   "id": "1b12d39a",
   "metadata": {},
   "outputs": [],
   "source": [
    "import numpy as np\n",
    "from scipy import linalg"
   ]
  },
  {
   "cell_type": "code",
   "execution_count": 33,
   "id": "2cb215b1",
   "metadata": {},
   "outputs": [],
   "source": [
    "test_rating_data = np.array([[2,3],[3,8]])"
   ]
  },
  {
   "cell_type": "code",
   "execution_count": 34,
   "id": "df257cfb",
   "metadata": {},
   "outputs": [],
   "source": [
    "eigenValues,eigenVectors = linalg.eig(test_rating_data)"
   ]
  },
  {
   "cell_type": "code",
   "execution_count": 37,
   "id": "d9ccea54",
   "metadata": {},
   "outputs": [],
   "source": [
    "first_eigen ,second_eigen = eigenValues"
   ]
  },
  {
   "cell_type": "code",
   "execution_count": 38,
   "id": "d805843b",
   "metadata": {},
   "outputs": [
    {
     "data": {
      "text/plain": [
       "(0.7573593128807152+0j)"
      ]
     },
     "execution_count": 38,
     "metadata": {},
     "output_type": "execute_result"
    }
   ],
   "source": [
    "first_eigen"
   ]
  },
  {
   "cell_type": "code",
   "execution_count": 39,
   "id": "e457e239",
   "metadata": {},
   "outputs": [
    {
     "data": {
      "text/plain": [
       "(9.242640687119286+0j)"
      ]
     },
     "execution_count": 39,
     "metadata": {},
     "output_type": "execute_result"
    }
   ],
   "source": [
    "second_eigen"
   ]
  },
  {
   "cell_type": "code",
   "execution_count": 41,
   "id": "9d4357af",
   "metadata": {},
   "outputs": [
    {
     "data": {
      "text/plain": [
       "array([-0.92387953,  0.38268343])"
      ]
     },
     "execution_count": 41,
     "metadata": {},
     "output_type": "execute_result"
    }
   ],
   "source": [
    "#first Eigen vector\n",
    "eigenVectors[:,0]"
   ]
  },
  {
   "cell_type": "code",
   "execution_count": 42,
   "id": "1daf4a57",
   "metadata": {},
   "outputs": [
    {
     "data": {
      "text/plain": [
       "array([-0.38268343, -0.92387953])"
      ]
     },
     "execution_count": 42,
     "metadata": {},
     "output_type": "execute_result"
    }
   ],
   "source": [
    "#second Eigen vector\n",
    "eigenVectors[:,1]"
   ]
  },
  {
   "cell_type": "markdown",
   "id": "57a5d938",
   "metadata": {},
   "source": [
    "# Scipy Statistics"
   ]
  },
  {
   "cell_type": "code",
   "execution_count": 44,
   "id": "0ed20a8b",
   "metadata": {},
   "outputs": [],
   "source": [
    "from scipy.stats import norm"
   ]
  },
  {
   "cell_type": "code",
   "execution_count": 45,
   "id": "2bbfa123",
   "metadata": {},
   "outputs": [
    {
     "data": {
      "text/plain": [
       "array([ 1.14429567,  0.67072942, -0.65687886,  2.06787919, -0.02462862,\n",
       "        0.28562382, -0.40050503, -1.26532374, -0.52906541, -0.78010028])"
      ]
     },
     "execution_count": 45,
     "metadata": {},
     "output_type": "execute_result"
    }
   ],
   "source": [
    "#random variables\n",
    "norm.rvs(loc =0,scale = 1,size = 10)"
   ]
  },
  {
   "cell_type": "code",
   "execution_count": 46,
   "id": "a8ab6153",
   "metadata": {},
   "outputs": [
    {
     "data": {
      "text/plain": [
       "0.9772498680518208"
      ]
     },
     "execution_count": 46,
     "metadata": {},
     "output_type": "execute_result"
    }
   ],
   "source": [
    "norm.cdf(5,loc =1,scale =2)"
   ]
  },
  {
   "cell_type": "code",
   "execution_count": 48,
   "id": "dfeee513",
   "metadata": {},
   "outputs": [
    {
     "data": {
      "text/plain": [
       "1.0279773571668917e-18"
      ]
     },
     "execution_count": 48,
     "metadata": {},
     "output_type": "execute_result"
    }
   ],
   "source": [
    "norm.pdf(9,loc =0,scale =1)"
   ]
  },
  {
   "cell_type": "code",
   "execution_count": null,
   "id": "9a6fce45",
   "metadata": {},
   "outputs": [],
   "source": []
  }
 ],
 "metadata": {
  "kernelspec": {
   "display_name": "Python 3 (ipykernel)",
   "language": "python",
   "name": "python3"
  },
  "language_info": {
   "codemirror_mode": {
    "name": "ipython",
    "version": 3
   },
   "file_extension": ".py",
   "mimetype": "text/x-python",
   "name": "python",
   "nbconvert_exporter": "python",
   "pygments_lexer": "ipython3",
   "version": "3.9.7"
  }
 },
 "nbformat": 4,
 "nbformat_minor": 5
}
